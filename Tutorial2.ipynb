{
 "cells": [
  {
   "cell_type": "code",
   "execution_count": 2,
   "id": "0011c157",
   "metadata": {},
   "outputs": [],
   "source": [
    "import numpy as np\n",
    "import matplotlib.pyplot as plt\n",
    "import time"
   ]
  },
  {
   "cell_type": "markdown",
   "id": "b79ae380",
   "metadata": {},
   "source": [
    "# Random numbers"
   ]
  },
  {
   "cell_type": "code",
   "execution_count": 3,
   "id": "c6c412a9",
   "metadata": {},
   "outputs": [],
   "source": [
    "# what does \"uniform random numbers\" mean? "
   ]
  },
  {
   "cell_type": "code",
   "execution_count": 12,
   "id": "ec3961ae",
   "metadata": {},
   "outputs": [],
   "source": [
    "N=int(20)\n",
    "A=np.random.random(N) # note: this changes each time you run the cell"
   ]
  },
  {
   "cell_type": "code",
   "execution_count": 14,
   "id": "87984b38",
   "metadata": {},
   "outputs": [
    {
     "data": {
      "text/plain": [
       "Text(0, 0.5, '$x$')"
      ]
     },
     "execution_count": 14,
     "metadata": {},
     "output_type": "execute_result"
    },
    {
     "data": {
      "image/png": "[encoded data removed]",
      "text/plain": [
       "<Figure size 720x432 with 1 Axes>"
      ]
     },
     "metadata": {
      "needs_background": "light"
     },
     "output_type": "display_data"
    }
   ],
   "source": [
    "plt.figure(figsize=(10,6))\n",
    "plt.plot(A, \"ko\")\n",
    "plt.xlabel(\"index\")\n",
    "plt.ylabel(r\"$x$\")"
   ]
  },
  {
   "cell_type": "code",
   "execution_count": 21,
   "id": "82f55f01",
   "metadata": {},
   "outputs": [
    {
     "data": {
      "text/plain": [
       "Text(0, 0.5, '$x$')"
      ]
     },
     "execution_count": 21,
     "metadata": {},
     "output_type": "execute_result"
    },
    {
     "data": {
      "image/png": "[encoded data removed]",
      "text/plain": [
       "<Figure size 720x432 with 1 Axes>"
      ]
     },
     "metadata": {
      "needs_background": "light"
     },
     "output_type": "display_data"
    }
   ],
   "source": [
    "np.random.seed(1998)\n",
    "A=np.random.random(N) \n",
    "plt.figure(figsize=(10,6))\n",
    "plt.plot(A, \"ko\")\n",
    "plt.xlabel(\"index\")\n",
    "plt.ylabel(r\"$x$\")"
   ]
  },
  {
   "cell_type": "code",
   "execution_count": 23,
   "id": "7676f07c",
   "metadata": {},
   "outputs": [],
   "source": [
    "# generate 1000 uniform random numbers between [-10, 3]"
   ]
  },
  {
   "cell_type": "code",
   "execution_count": null,
   "id": "7c5d9641",
   "metadata": {},
   "outputs": [],
   "source": []
  },
  {
   "cell_type": "markdown",
   "id": "c860d750",
   "metadata": {},
   "source": [
    "# Functions"
   ]
  },
  {
   "cell_type": "markdown",
   "id": "22d05a92",
   "metadata": {},
   "source": [
    "### Univariate Gaussians"
   ]
  },
  {
   "cell_type": "code",
   "execution_count": 1,
   "id": "167c27cc",
   "metadata": {},
   "outputs": [],
   "source": [
    "# write a function to that generates a normalized 1-d Gaussian, given mu, sigma\n",
    "# plot the output for a few combinations of mu,sigma. Plot a vertical line at the mean."
   ]
  },
  {
   "cell_type": "code",
   "execution_count": 15,
   "id": "da304094",
   "metadata": {},
   "outputs": [],
   "source": [
    "mu = 1.0\n",
    "sig = 2.5\n",
    "# Generate Gaussian random numbers with these parameters, and plot the histogram.\n",
    "# plot the univariate Gaussian expectation on the same plot"
   ]
  },
  {
   "cell_type": "code",
   "execution_count": 16,
   "id": "a583c357",
   "metadata": {},
   "outputs": [],
   "source": [
    "np.random.seed(1)\n",
    "N=int(1e4)\n",
    "G=np.random.normal(loc=mu, scale=sig, size=N)"
   ]
  },
  {
   "cell_type": "code",
   "execution_count": 19,
   "id": "1c80ce20",
   "metadata": {},
   "outputs": [
    {
     "data": {
      "text/plain": [
       "Text(0, 0.5, 'PDF')"
      ]
     },
     "execution_count": 19,
     "metadata": {},
     "output_type": "execute_result"
    },
    {
     "data": {
      "image/png": "[encoded data removed]",
      "text/plain": [
       "<Figure size 432x288 with 1 Axes>"
      ]
     },
     "metadata": {
      "needs_background": "light"
     },
     "output_type": "display_data"
    }
   ],
   "source": [
    "plt.figure(figsize=(6,4))\n",
    "plt.hist(G, bins=20, density=True, histtype=\"step\")\n",
    "plt.xlabel(r\"$x$\")\n",
    "plt.ylabel(\"PDF\")"
   ]
  },
  {
   "cell_type": "code",
   "execution_count": null,
   "id": "e3d84b9b",
   "metadata": {},
   "outputs": [],
   "source": [
    "# Note how the histogram changes as you change the number of sample points, and the number of bins.\n",
    "# Fix the number of bins to 50, and change the number of sample points (N) from 10 to 1e5 in logarithmic steps\n",
    "# Plot the histograms on a single plot, colour coded by N, and compare with the analytical expectation."
   ]
  },
  {
   "cell_type": "markdown",
   "id": "0bbac368",
   "metadata": {},
   "source": [
    "### Vectorization"
   ]
  },
  {
   "cell_type": "code",
   "execution_count": 25,
   "id": "0872a194",
   "metadata": {},
   "outputs": [],
   "source": [
    "# write a function that returns the sum of gaussians, \n",
    "# when you provide arrays of mean, sigma, amplitudes of individual Gaussians"
   ]
  },
  {
   "cell_type": "code",
   "execution_count": 10,
   "id": "02007588",
   "metadata": {},
   "outputs": [],
   "source": [
    "# See the time difference between when you use for loops vs vectorize, and when vectorization is efficient."
   ]
  },
  {
   "cell_type": "code",
   "execution_count": 11,
   "id": "51b96a8d",
   "metadata": {},
   "outputs": [],
   "source": [
    "# Advanced problem: Draw random numbers from 3 Gaussians, and plot a histogram of their sum.\n",
    "# plot the expected probability distribution function, with correct normalization."
   ]
  },
  {
   "cell_type": "markdown",
   "id": "01c69b04",
   "metadata": {},
   "source": [
    "### Multivariate Gaussian"
   ]
  },
  {
   "cell_type": "code",
   "execution_count": 51,
   "id": "7eeeeb67",
   "metadata": {},
   "outputs": [],
   "source": [
    "# Tenerate and plot a 2D gaussian, given the mu vector and the covariance matrix\n",
    "# what are the constraints on the covariance matrix?"
   ]
  },
  {
   "cell_type": "code",
   "execution_count": 52,
   "id": "72562491",
   "metadata": {},
   "outputs": [],
   "source": [
    "# generalize the code for d dimensional Gaussian"
   ]
  },
  {
   "cell_type": "code",
   "execution_count": 53,
   "id": "492adf08",
   "metadata": {},
   "outputs": [],
   "source": [
    "# Construct and visualize a 2D Gaussian\n",
    "# what are the different ways you can visualize it?\n",
    "# How do the off-diagonal terms of the covariance matrix change the ellipses?"
   ]
  },
  {
   "cell_type": "code",
   "execution_count": null,
   "id": "97dacbde",
   "metadata": {},
   "outputs": [],
   "source": [
    "# What will the marginal and conditional distributions look like?"
   ]
  }
 ],
 "metadata": {
  "kernelspec": {
   "display_name": "Python 3 (ipykernel)",
   "language": "python",
   "name": "python3"
  },
  "language_info": {
   "codemirror_mode": {
    "name": "ipython",
    "version": 3
   },
   "file_extension": ".py",
   "mimetype": "text/x-python",
   "name": "python",
   "nbconvert_exporter": "python",
   "pygments_lexer": "ipython3",
   "version": "3.9.12"
  }
 },
 "nbformat": 4,
 "nbformat_minor": 5
}
