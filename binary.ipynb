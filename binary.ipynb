{
 "cells": [
  {
   "cell_type": "code",
   "execution_count": 1,
   "id": "35c9890b",
   "metadata": {},
   "outputs": [],
   "source": [
    "import numpy as np\n",
    "import matplotlib.pyplot as plt\n",
    "from bitarray import bitarray\n"
   ]
  },
  {
   "cell_type": "code",
   "execution_count": 46,
   "id": "4ec94b85",
   "metadata": {},
   "outputs": [],
   "source": [
    "def read_raw_binary_bit(filepath, bitsize=8):\n",
    "    \"\"\"Reads a file and outputs binary numbers in raw format with any bitsize\"\"\"\n",
    "    to_return = []\n",
    "    bits = bitarray()\n",
    "    with open(filepath, 'rb') as f:\n",
    "        bits.fromfile(f)\n",
    "    for i in range(0, len(bits), bitsize):\n",
    "        to_return.append(bits[i:i+bitsize].to01())\n",
    "    return to_return\n",
    "\n",
    "def read_raw_binary_byte(filepath, bytesize=1):\n",
    "    to_return = []\n",
    "    with open(filepath, \"rb\") as f:\n",
    "        data = f.read()\n",
    "    for i in range(0, len(data), bytesize):\n",
    "        chunk = data[i:i+bytesize]\n",
    "        hex_part = \" \".join(f\"{b:02x}\" for b in chunk)\n",
    "        bin_part = \" \".join(f\"{b:08b}\" for b in chunk)\n",
    "        print(f\"{i:08}  {hex_part:<29}  {bin_part}\")\n",
    "        to_return.append(\"\".join(f\"{b:08b}\" for b in chunk))\n",
    "    return to_return\n"
   ]
  },
  {
   "cell_type": "code",
   "execution_count": 47,
   "id": "6b8e06d5",
   "metadata": {},
   "outputs": [
    {
     "name": "stdout",
     "output_type": "stream",
     "text": [
      "18 bitchunk total\n",
      "['01000001001000000111000101110101', '01101001011000110110101100100000', '01100010011100100110111101110111', '01101110001000000110011001101111', '01111000001000000110101001110101', '01101101011100000110010101100100', '00100000011011110111010101110100', '00100000011011110110011000100000', '01100010011001010110010000001010', '01000001001000000111000101110101', '01101001011000110110101100100000', '01100010011100100110111101110111', '01101110001000000110011001101111', '01111000001000000110101001110101', '01101101011100000110010101100100', '00100000011011110111010101110100', '00100000011011110110011000100000', '01100010011001010110010000001010']\n"
     ]
    }
   ],
   "source": [
    "data = read_raw_binary_bit(\"data/secret.jpg\", bitsize=32)\n",
    "print(len(data), \"bitchunk total\")\n",
    "print(data)\n"
   ]
  },
  {
   "cell_type": "code",
   "execution_count": 48,
   "id": "f59dfe4a",
   "metadata": {},
   "outputs": [
    {
     "name": "stdout",
     "output_type": "stream",
     "text": [
      "00000000  41 20 71 75 69 63 6b 20 62 72  01000001 00100000 01110001 01110101 01101001 01100011 01101011 00100000 01100010 01110010\n",
      "00000010  6f 77 6e 20 66 6f 78 20 6a 75  01101111 01110111 01101110 00100000 01100110 01101111 01111000 00100000 01101010 01110101\n",
      "00000020  6d 70 65 64 20 6f 75 74 20 6f  01101101 01110000 01100101 01100100 00100000 01101111 01110101 01110100 00100000 01101111\n",
      "00000030  66 20 62 65 64 0a 41 20 71 75  01100110 00100000 01100010 01100101 01100100 00001010 01000001 00100000 01110001 01110101\n",
      "00000040  69 63 6b 20 62 72 6f 77 6e 20  01101001 01100011 01101011 00100000 01100010 01110010 01101111 01110111 01101110 00100000\n",
      "00000050  66 6f 78 20 6a 75 6d 70 65 64  01100110 01101111 01111000 00100000 01101010 01110101 01101101 01110000 01100101 01100100\n",
      "00000060  20 6f 75 74 20 6f 66 20 62 65  00100000 01101111 01110101 01110100 00100000 01101111 01100110 00100000 01100010 01100101\n",
      "00000070  64 0a                          01100100 00001010\n",
      "\n",
      "8 bytechunk total\n",
      "['01000001001000000111000101110101011010010110001101101011001000000110001001110010', '01101111011101110110111000100000011001100110111101111000001000000110101001110101', '01101101011100000110010101100100001000000110111101110101011101000010000001101111', '01100110001000000110001001100101011001000000101001000001001000000111000101110101', '01101001011000110110101100100000011000100111001001101111011101110110111000100000', '01100110011011110111100000100000011010100111010101101101011100000110010101100100', '00100000011011110111010101110100001000000110111101100110001000000110001001100101', '0110010000001010']\n"
     ]
    }
   ],
   "source": [
    "data = read_raw_binary_byte(\"data/secret.jpg\", bytesize=10)\n",
    "print()\n",
    "print(len(data), \"bytechunk total\")\n",
    "print(data)\n"
   ]
  },
  {
   "cell_type": "code",
   "execution_count": null,
   "id": "c6b4850c",
   "metadata": {},
   "outputs": [],
   "source": [
    "fig, ax = plt.subplots(1,2, figsize=[12,5])\n",
    "ax[0].plot(data)\n",
    "values, counts = np.unique(data, return_counts=True)\n",
    "ax[1].bar(values, counts)\n",
    "ax[1].tick_params(axis='x', labelrotation=90)\n",
    "plt.show()\n"
   ]
  },
  {
   "cell_type": "code",
   "execution_count": null,
   "id": "cf92ce7a",
   "metadata": {},
   "outputs": [],
   "source": []
  }
 ],
 "metadata": {
  "kernelspec": {
   "display_name": "py311",
   "language": "python",
   "name": "python3"
  },
  "language_info": {
   "codemirror_mode": {
    "name": "ipython",
    "version": 3
   },
   "file_extension": ".py",
   "mimetype": "text/x-python",
   "name": "python",
   "nbconvert_exporter": "python",
   "pygments_lexer": "ipython3",
   "version": "3.11.11"
  }
 },
 "nbformat": 4,
 "nbformat_minor": 5
}
