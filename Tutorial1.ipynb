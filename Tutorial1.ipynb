{
 "cells": [
  {
   "cell_type": "code",
   "execution_count": 1,
   "id": "cec1fead",
   "metadata": {},
   "outputs": [],
   "source": [
    "import numpy as np\n",
    "import matplotlib.pyplot as plt"
   ]
  },
  {
   "cell_type": "markdown",
   "id": "1d93e99e",
   "metadata": {},
   "source": [
    "# csv files"
   ]
  },
  {
   "cell_type": "code",
   "execution_count": 2,
   "id": "9680136b",
   "metadata": {},
   "outputs": [],
   "source": [
    "import pandas as pd"
   ]
  },
  {
   "cell_type": "code",
   "execution_count": 3,
   "id": "ddd26fec",
   "metadata": {},
   "outputs": [],
   "source": [
    "f1=\"data/data1.csv\""
   ]
  },
  {
   "cell_type": "code",
   "execution_count": 4,
   "id": "405b7556",
   "metadata": {},
   "outputs": [],
   "source": [
    "data=pd.read_csv(f1)"
   ]
  },
  {
   "cell_type": "code",
   "execution_count": 5,
   "id": "ae46af2f",
   "metadata": {},
   "outputs": [
    {
     "data": {
      "text/html": [
       "<div>\n",
       "<style scoped>\n",
       "    .dataframe tbody tr th:only-of-type {\n",
       "        vertical-align: middle;\n",
       "    }\n",
       "\n",
       "    .dataframe tbody tr th {\n",
       "        vertical-align: top;\n",
       "    }\n",
       "\n",
       "    .dataframe thead th {\n",
       "        text-align: right;\n",
       "    }\n",
       "</style>\n",
       "<table border=\"1\" class=\"dataframe\">\n",
       "  <thead>\n",
       "    <tr style=\"text-align: right;\">\n",
       "      <th></th>\n",
       "      <th>x</th>\n",
       "      <th>y</th>\n",
       "      <th>z</th>\n",
       "      <th>yerr</th>\n",
       "      <th>zerr</th>\n",
       "      <th>y0</th>\n",
       "      <th>z0</th>\n",
       "    </tr>\n",
       "  </thead>\n",
       "  <tbody>\n",
       "    <tr>\n",
       "      <th>0</th>\n",
       "      <td>0.000000</td>\n",
       "      <td>0.000000</td>\n",
       "      <td>0.902326</td>\n",
       "      <td>0.000000</td>\n",
       "      <td>0.1</td>\n",
       "      <td>0.000000</td>\n",
       "      <td>1.000000e+00</td>\n",
       "    </tr>\n",
       "    <tr>\n",
       "      <th>1</th>\n",
       "      <td>0.034483</td>\n",
       "      <td>0.001231</td>\n",
       "      <td>1.056867</td>\n",
       "      <td>0.000119</td>\n",
       "      <td>0.1</td>\n",
       "      <td>0.001189</td>\n",
       "      <td>1.125168e+00</td>\n",
       "    </tr>\n",
       "    <tr>\n",
       "      <th>2</th>\n",
       "      <td>0.068966</td>\n",
       "      <td>0.005131</td>\n",
       "      <td>1.192094</td>\n",
       "      <td>0.000476</td>\n",
       "      <td>0.1</td>\n",
       "      <td>0.004756</td>\n",
       "      <td>1.233622e+00</td>\n",
       "    </tr>\n",
       "    <tr>\n",
       "      <th>3</th>\n",
       "      <td>0.103448</td>\n",
       "      <td>0.009908</td>\n",
       "      <td>1.371569</td>\n",
       "      <td>0.001070</td>\n",
       "      <td>0.1</td>\n",
       "      <td>0.010702</td>\n",
       "      <td>1.310396e+00</td>\n",
       "    </tr>\n",
       "    <tr>\n",
       "      <th>4</th>\n",
       "      <td>0.137931</td>\n",
       "      <td>0.021223</td>\n",
       "      <td>1.401706</td>\n",
       "      <td>0.001902</td>\n",
       "      <td>0.1</td>\n",
       "      <td>0.019025</td>\n",
       "      <td>1.343844e+00</td>\n",
       "    </tr>\n",
       "    <tr>\n",
       "      <th>5</th>\n",
       "      <td>0.172414</td>\n",
       "      <td>0.028042</td>\n",
       "      <td>1.424632</td>\n",
       "      <td>0.002973</td>\n",
       "      <td>0.1</td>\n",
       "      <td>0.029727</td>\n",
       "      <td>1.326853e+00</td>\n",
       "    </tr>\n",
       "    <tr>\n",
       "      <th>6</th>\n",
       "      <td>0.206897</td>\n",
       "      <td>0.039710</td>\n",
       "      <td>1.162743</td>\n",
       "      <td>0.004281</td>\n",
       "      <td>0.1</td>\n",
       "      <td>0.042806</td>\n",
       "      <td>1.257592e+00</td>\n",
       "    </tr>\n",
       "    <tr>\n",
       "      <th>7</th>\n",
       "      <td>0.241379</td>\n",
       "      <td>0.046702</td>\n",
       "      <td>1.188925</td>\n",
       "      <td>0.005826</td>\n",
       "      <td>0.1</td>\n",
       "      <td>0.058264</td>\n",
       "      <td>1.139702e+00</td>\n",
       "    </tr>\n",
       "    <tr>\n",
       "      <th>8</th>\n",
       "      <td>0.275862</td>\n",
       "      <td>0.072043</td>\n",
       "      <td>0.994770</td>\n",
       "      <td>0.007610</td>\n",
       "      <td>0.1</td>\n",
       "      <td>0.076100</td>\n",
       "      <td>9.819149e-01</td>\n",
       "    </tr>\n",
       "    <tr>\n",
       "      <th>9</th>\n",
       "      <td>0.310345</td>\n",
       "      <td>0.078867</td>\n",
       "      <td>0.833463</td>\n",
       "      <td>0.009631</td>\n",
       "      <td>0.1</td>\n",
       "      <td>0.096314</td>\n",
       "      <td>7.971404e-01</td>\n",
       "    </tr>\n",
       "    <tr>\n",
       "      <th>10</th>\n",
       "      <td>0.344828</td>\n",
       "      <td>0.110556</td>\n",
       "      <td>0.539370</td>\n",
       "      <td>0.011891</td>\n",
       "      <td>0.1</td>\n",
       "      <td>0.118906</td>\n",
       "      <td>6.011129e-01</td>\n",
       "    </tr>\n",
       "    <tr>\n",
       "      <th>11</th>\n",
       "      <td>0.379310</td>\n",
       "      <td>0.145579</td>\n",
       "      <td>0.490001</td>\n",
       "      <td>0.014388</td>\n",
       "      <td>0.1</td>\n",
       "      <td>0.143876</td>\n",
       "      <td>4.107451e-01</td>\n",
       "    </tr>\n",
       "    <tr>\n",
       "      <th>12</th>\n",
       "      <td>0.413793</td>\n",
       "      <td>0.194907</td>\n",
       "      <td>0.305276</td>\n",
       "      <td>0.017122</td>\n",
       "      <td>0.1</td>\n",
       "      <td>0.171225</td>\n",
       "      <td>2.423572e-01</td>\n",
       "    </tr>\n",
       "    <tr>\n",
       "      <th>13</th>\n",
       "      <td>0.448276</td>\n",
       "      <td>0.184074</td>\n",
       "      <td>0.044990</td>\n",
       "      <td>0.020095</td>\n",
       "      <td>0.1</td>\n",
       "      <td>0.200951</td>\n",
       "      <td>1.099681e-01</td>\n",
       "    </tr>\n",
       "    <tr>\n",
       "      <th>14</th>\n",
       "      <td>0.482759</td>\n",
       "      <td>0.260674</td>\n",
       "      <td>0.097494</td>\n",
       "      <td>0.023306</td>\n",
       "      <td>0.1</td>\n",
       "      <td>0.233056</td>\n",
       "      <td>2.382812e-02</td>\n",
       "    </tr>\n",
       "    <tr>\n",
       "      <th>15</th>\n",
       "      <td>0.517241</td>\n",
       "      <td>0.210548</td>\n",
       "      <td>-0.016122</td>\n",
       "      <td>0.026754</td>\n",
       "      <td>0.1</td>\n",
       "      <td>0.267539</td>\n",
       "      <td>-1.065464e-02</td>\n",
       "    </tr>\n",
       "    <tr>\n",
       "      <th>16</th>\n",
       "      <td>0.551724</td>\n",
       "      <td>0.323680</td>\n",
       "      <td>-0.086902</td>\n",
       "      <td>0.030440</td>\n",
       "      <td>0.1</td>\n",
       "      <td>0.304400</td>\n",
       "      <td>6.519840e-03</td>\n",
       "    </tr>\n",
       "    <tr>\n",
       "      <th>17</th>\n",
       "      <td>0.586207</td>\n",
       "      <td>0.324501</td>\n",
       "      <td>0.043757</td>\n",
       "      <td>0.034364</td>\n",
       "      <td>0.1</td>\n",
       "      <td>0.343639</td>\n",
       "      <td>6.994337e-02</td>\n",
       "    </tr>\n",
       "    <tr>\n",
       "      <th>18</th>\n",
       "      <td>0.620690</td>\n",
       "      <td>0.413845</td>\n",
       "      <td>0.224617</td>\n",
       "      <td>0.038526</td>\n",
       "      <td>0.1</td>\n",
       "      <td>0.385256</td>\n",
       "      <td>1.693658e-01</td>\n",
       "    </tr>\n",
       "    <tr>\n",
       "      <th>19</th>\n",
       "      <td>0.655172</td>\n",
       "      <td>0.457458</td>\n",
       "      <td>0.194550</td>\n",
       "      <td>0.042925</td>\n",
       "      <td>0.1</td>\n",
       "      <td>0.429251</td>\n",
       "      <td>2.907681e-01</td>\n",
       "    </tr>\n",
       "    <tr>\n",
       "      <th>20</th>\n",
       "      <td>0.689655</td>\n",
       "      <td>0.502052</td>\n",
       "      <td>0.443038</td>\n",
       "      <td>0.047562</td>\n",
       "      <td>0.1</td>\n",
       "      <td>0.475624</td>\n",
       "      <td>4.178300e-01</td>\n",
       "    </tr>\n",
       "    <tr>\n",
       "      <th>21</th>\n",
       "      <td>0.724138</td>\n",
       "      <td>0.623643</td>\n",
       "      <td>0.506183</td>\n",
       "      <td>0.052438</td>\n",
       "      <td>0.1</td>\n",
       "      <td>0.524376</td>\n",
       "      <td>5.336390e-01</td>\n",
       "    </tr>\n",
       "    <tr>\n",
       "      <th>22</th>\n",
       "      <td>0.758621</td>\n",
       "      <td>0.579184</td>\n",
       "      <td>0.595804</td>\n",
       "      <td>0.057551</td>\n",
       "      <td>0.1</td>\n",
       "      <td>0.575505</td>\n",
       "      <td>6.224603e-01</td>\n",
       "    </tr>\n",
       "    <tr>\n",
       "      <th>23</th>\n",
       "      <td>0.793103</td>\n",
       "      <td>0.666690</td>\n",
       "      <td>0.733870</td>\n",
       "      <td>0.062901</td>\n",
       "      <td>0.1</td>\n",
       "      <td>0.629013</td>\n",
       "      <td>6.713849e-01</td>\n",
       "    </tr>\n",
       "    <tr>\n",
       "      <th>24</th>\n",
       "      <td>0.827586</td>\n",
       "      <td>0.629056</td>\n",
       "      <td>0.661355</td>\n",
       "      <td>0.068490</td>\n",
       "      <td>0.1</td>\n",
       "      <td>0.684899</td>\n",
       "      <td>6.716805e-01</td>\n",
       "    </tr>\n",
       "    <tr>\n",
       "      <th>25</th>\n",
       "      <td>0.862069</td>\n",
       "      <td>0.689407</td>\n",
       "      <td>0.659888</td>\n",
       "      <td>0.074316</td>\n",
       "      <td>0.1</td>\n",
       "      <td>0.743163</td>\n",
       "      <td>6.197060e-01</td>\n",
       "    </tr>\n",
       "    <tr>\n",
       "      <th>26</th>\n",
       "      <td>0.896552</td>\n",
       "      <td>0.894449</td>\n",
       "      <td>0.493048</td>\n",
       "      <td>0.080380</td>\n",
       "      <td>0.1</td>\n",
       "      <td>0.803805</td>\n",
       "      <td>5.172928e-01</td>\n",
       "    </tr>\n",
       "    <tr>\n",
       "      <th>27</th>\n",
       "      <td>0.931034</td>\n",
       "      <td>0.962217</td>\n",
       "      <td>0.339929</td>\n",
       "      <td>0.086683</td>\n",
       "      <td>0.1</td>\n",
       "      <td>0.866825</td>\n",
       "      <td>3.715526e-01</td>\n",
       "    </tr>\n",
       "    <tr>\n",
       "      <th>28</th>\n",
       "      <td>0.965517</td>\n",
       "      <td>0.954238</td>\n",
       "      <td>0.119733</td>\n",
       "      <td>0.093222</td>\n",
       "      <td>0.1</td>\n",
       "      <td>0.932224</td>\n",
       "      <td>1.941335e-01</td>\n",
       "    </tr>\n",
       "    <tr>\n",
       "      <th>29</th>\n",
       "      <td>1.000000</td>\n",
       "      <td>0.961735</td>\n",
       "      <td>0.021277</td>\n",
       "      <td>0.100000</td>\n",
       "      <td>0.1</td>\n",
       "      <td>1.000000</td>\n",
       "      <td>2.220446e-16</td>\n",
       "    </tr>\n",
       "  </tbody>\n",
       "</table>\n",
       "</div>"
      ],
      "text/plain": [
       "           x         y         z      yerr  zerr        y0            z0\n",
       "0   0.000000  0.000000  0.902326  0.000000   0.1  0.000000  1.000000e+00\n",
       "1   0.034483  0.001231  1.056867  0.000119   0.1  0.001189  1.125168e+00\n",
       "2   0.068966  0.005131  1.192094  0.000476   0.1  0.004756  1.233622e+00\n",
       "3   0.103448  0.009908  1.371569  0.001070   0.1  0.010702  1.310396e+00\n",
       "4   0.137931  0.021223  1.401706  0.001902   0.1  0.019025  1.343844e+00\n",
       "5   0.172414  0.028042  1.424632  0.002973   0.1  0.029727  1.326853e+00\n",
       "6   0.206897  0.039710  1.162743  0.004281   0.1  0.042806  1.257592e+00\n",
       "7   0.241379  0.046702  1.188925  0.005826   0.1  0.058264  1.139702e+00\n",
       "8   0.275862  0.072043  0.994770  0.007610   0.1  0.076100  9.819149e-01\n",
       "9   0.310345  0.078867  0.833463  0.009631   0.1  0.096314  7.971404e-01\n",
       "10  0.344828  0.110556  0.539370  0.011891   0.1  0.118906  6.011129e-01\n",
       "11  0.379310  0.145579  0.490001  0.014388   0.1  0.143876  4.107451e-01\n",
       "12  0.413793  0.194907  0.305276  0.017122   0.1  0.171225  2.423572e-01\n",
       "13  0.448276  0.184074  0.044990  0.020095   0.1  0.200951  1.099681e-01\n",
       "14  0.482759  0.260674  0.097494  0.023306   0.1  0.233056  2.382812e-02\n",
       "15  0.517241  0.210548 -0.016122  0.026754   0.1  0.267539 -1.065464e-02\n",
       "16  0.551724  0.323680 -0.086902  0.030440   0.1  0.304400  6.519840e-03\n",
       "17  0.586207  0.324501  0.043757  0.034364   0.1  0.343639  6.994337e-02\n",
       "18  0.620690  0.413845  0.224617  0.038526   0.1  0.385256  1.693658e-01\n",
       "19  0.655172  0.457458  0.194550  0.042925   0.1  0.429251  2.907681e-01\n",
       "20  0.689655  0.502052  0.443038  0.047562   0.1  0.475624  4.178300e-01\n",
       "21  0.724138  0.623643  0.506183  0.052438   0.1  0.524376  5.336390e-01\n",
       "22  0.758621  0.579184  0.595804  0.057551   0.1  0.575505  6.224603e-01\n",
       "23  0.793103  0.666690  0.733870  0.062901   0.1  0.629013  6.713849e-01\n",
       "24  0.827586  0.629056  0.661355  0.068490   0.1  0.684899  6.716805e-01\n",
       "25  0.862069  0.689407  0.659888  0.074316   0.1  0.743163  6.197060e-01\n",
       "26  0.896552  0.894449  0.493048  0.080380   0.1  0.803805  5.172928e-01\n",
       "27  0.931034  0.962217  0.339929  0.086683   0.1  0.866825  3.715526e-01\n",
       "28  0.965517  0.954238  0.119733  0.093222   0.1  0.932224  1.941335e-01\n",
       "29  1.000000  0.961735  0.021277  0.100000   0.1  1.000000  2.220446e-16"
      ]
     },
     "execution_count": 5,
     "metadata": {},
     "output_type": "execute_result"
    }
   ],
   "source": [
    "data"
   ]
  },
  {
   "cell_type": "code",
   "execution_count": 6,
   "id": "e215f9e0",
   "metadata": {},
   "outputs": [
    {
     "data": {
      "text/plain": [
       "Index(['x', 'y', 'z', 'yerr', 'zerr', 'y0', 'z0'], dtype='object')"
      ]
     },
     "execution_count": 6,
     "metadata": {},
     "output_type": "execute_result"
    }
   ],
   "source": [
    "data.keys()"
   ]
  },
  {
   "cell_type": "code",
   "execution_count": 7,
   "id": "9cc06aed",
   "metadata": {},
   "outputs": [],
   "source": [
    "# Load the data: x, y\n",
    "# Plot it"
   ]
  },
  {
   "cell_type": "code",
   "execution_count": null,
   "id": "20d8841b",
   "metadata": {},
   "outputs": [],
   "source": []
  },
  {
   "cell_type": "code",
   "execution_count": 8,
   "id": "ac1dac88",
   "metadata": {},
   "outputs": [],
   "source": [
    "# Load z, plot (x, y) and (x, z) on the same plot\n"
   ]
  },
  {
   "cell_type": "markdown",
   "id": "70bdeb91",
   "metadata": {},
   "source": [
    "## Adding a model"
   ]
  },
  {
   "cell_type": "code",
   "execution_count": 9,
   "id": "4bba17a8",
   "metadata": {},
   "outputs": [],
   "source": [
    "# load the models: y0, z0\n",
    "# Plot everything in the same figure"
   ]
  },
  {
   "cell_type": "code",
   "execution_count": null,
   "id": "f2e36e87",
   "metadata": {},
   "outputs": [],
   "source": []
  },
  {
   "cell_type": "markdown",
   "id": "8708a1ce",
   "metadata": {},
   "source": [
    "## Adding errorbars"
   ]
  },
  {
   "cell_type": "code",
   "execution_count": 10,
   "id": "68a3e628",
   "metadata": {},
   "outputs": [],
   "source": [
    "# y errors: yerr, zerr\n",
    "# plot errorbars"
   ]
  },
  {
   "cell_type": "code",
   "execution_count": null,
   "id": "36d74fde",
   "metadata": {},
   "outputs": [],
   "source": []
  },
  {
   "cell_type": "markdown",
   "id": "fa3dcd4c",
   "metadata": {},
   "source": [
    "# Binary files"
   ]
  },
  {
   "cell_type": "code",
   "execution_count": 11,
   "id": "c04f05c5",
   "metadata": {},
   "outputs": [],
   "source": [
    "f=\"data/bin1.bin\"\n",
    "data=np.fromfile(f)"
   ]
  },
  {
   "cell_type": "code",
   "execution_count": 12,
   "id": "e2feabdf",
   "metadata": {},
   "outputs": [
    {
     "data": {
      "text/plain": [
       "array([4.60878829e+04, 3.49856942e+01, 3.46518541e-03, 1.16635452e+02,\n",
       "       3.63793409e+03, 2.79247227e+04, 2.33462156e+05, 2.30908007e+04,\n",
       "       4.80787208e+03, 1.84811902e+00, 4.41087813e+05, 3.02522852e+04,\n",
       "       2.55074907e+05, 2.85631404e-06, 2.33495031e+05, 7.28142211e+02,\n",
       "       3.40644972e+03, 5.18600236e+01, 1.76456532e+05, 6.57252027e+04,\n",
       "       6.43338517e+04, 1.17020203e+05, 1.00242981e+03, 2.79130593e+01,\n",
       "       4.38214317e-02, 5.66047082e+22, 1.71768736e+08, 8.56963541e+00,\n",
       "       7.89741262e+09, 3.01764103e+16, 4.20419866e+21, 1.69930226e+28,\n",
       "       1.03498025e+21, 1.93233569e+17, 4.91583829e+04, 3.36796921e+31,\n",
       "       8.82427320e+21, 7.90450583e+28, 1.13895074e-01, 1.70245869e+28,\n",
       "       3.14159923e+12, 1.73273006e+16, 4.63950916e+08, 7.62077362e+26,\n",
       "       6.92552021e+23, 5.64745420e+23, 1.41260578e+25, 1.79017634e+13,\n",
       "       9.53952815e+07, 2.15216828e+02])"
      ]
     },
     "execution_count": 12,
     "metadata": {},
     "output_type": "execute_result"
    }
   ],
   "source": [
    "data"
   ]
  },
  {
   "cell_type": "code",
   "execution_count": 13,
   "id": "f472248c",
   "metadata": {},
   "outputs": [
    {
     "data": {
      "text/plain": [
       "array([4.1702199e+00, 7.2032452e+00, 1.1437482e-03, 3.0233257e+00,\n",
       "       1.4675589e+00, 9.2338592e-01, 1.8626021e+00, 3.4556072e+00,\n",
       "       3.9676747e+00, 5.3881674e+00, 4.1919451e+00, 6.8521948e+00,\n",
       "       2.0445225e+00, 8.7811747e+00, 2.7387592e-01, 6.7046752e+00,\n",
       "       4.1730480e+00, 5.5868983e+00, 1.4038694e+00, 1.9810148e+00,\n",
       "       8.0074453e+00, 9.6826162e+00, 3.1342418e+00, 6.9232264e+00,\n",
       "       8.7638912e+00, 8.9460669e+00, 8.5044211e-01, 3.9054784e-01,\n",
       "       1.6983042e+00, 8.7814255e+00, 9.8346835e-01, 4.2110763e+00,\n",
       "       9.5788956e+00, 5.3316526e+00, 6.9187713e+00, 3.1551564e+00,\n",
       "       6.8650093e+00, 8.3462563e+00, 1.8288277e-01, 7.5014434e+00,\n",
       "       9.8886108e+00, 7.4816566e+00, 2.8044400e+00, 7.8927932e+00,\n",
       "       1.0322601e+00, 4.4789352e+00, 9.0859547e+00, 2.9361415e+00,\n",
       "       2.8777535e+00, 1.3002857e+00, 6.4729691e+01, 1.3437842e+03,\n",
       "       1.0011444e+00, 2.0559553e+01, 4.3386312e+00, 2.5178010e+00,\n",
       "       6.4404740e+00, 3.1677519e+01, 5.2861473e+01, 2.1880203e+02,\n",
       "       6.6151337e+01, 9.4595502e+02, 7.7254686e+00, 6.5105186e+03,\n",
       "       1.3150517e+00, 8.1621277e+02, 6.4913010e+01, 2.6690646e+02,\n",
       "       4.0709214e+00, 7.2500973e+00, 3.0032361e+03, 1.6036390e+04,\n",
       "       2.2971212e+01, 1.0155912e+03, 6.3989648e+03, 7.6776333e+03,\n",
       "       2.3406816e+00, 1.4777901e+00, 5.4646726e+00, 6.5121504e+03,\n",
       "       2.6737134e+00, 6.7429070e+01, 1.4456440e+04, 2.0677946e+02,\n",
       "       1.0110768e+03, 2.3456703e+01, 9.5815472e+02, 4.2143755e+03,\n",
       "       1.2006737e+00, 1.8106536e+03, 1.9704670e+04, 1.7751790e+03,\n",
       "       1.6517822e+01, 2.6779136e+03, 2.8074036e+00, 8.8140778e+01,\n",
       "       8.8303955e+03, 1.8843000e+01, 1.7774296e+01, 3.6703453e+00],\n",
       "      dtype=float32)"
      ]
     },
     "execution_count": 13,
     "metadata": {},
     "output_type": "execute_result"
    }
   ],
   "source": [
    "data=np.fromfile(f, dtype=np.float32)\n",
    "data"
   ]
  },
  {
   "cell_type": "code",
   "execution_count": 14,
   "id": "a602028b",
   "metadata": {},
   "outputs": [],
   "source": [
    "# why is the loaded data different?"
   ]
  },
  {
   "cell_type": "code",
   "execution_count": 15,
   "id": "f40d124e",
   "metadata": {},
   "outputs": [],
   "source": [
    "data=np.fromfile(\"data/bin1.bin\", dtype=np.float32).reshape([2,50])"
   ]
  },
  {
   "cell_type": "code",
   "execution_count": 16,
   "id": "d1e68a16",
   "metadata": {},
   "outputs": [],
   "source": [
    "x1=data[0]\n",
    "y1=data[1]"
   ]
  },
  {
   "cell_type": "code",
   "execution_count": 17,
   "id": "94027f0c",
   "metadata": {},
   "outputs": [],
   "source": [
    "# Plot (x1, y1)\n",
    "# How can you improve this plot?"
   ]
  },
  {
   "cell_type": "markdown",
   "id": "38adc67e",
   "metadata": {},
   "source": [
    "# Fits files"
   ]
  },
  {
   "cell_type": "code",
   "execution_count": 18,
   "id": "29acb71a",
   "metadata": {},
   "outputs": [],
   "source": [
    "from astropy.io import fits\n",
    "from matplotlib import colors"
   ]
  },
  {
   "cell_type": "code",
   "execution_count": 19,
   "id": "503b60fe",
   "metadata": {},
   "outputs": [],
   "source": [
    "lbox=200"
   ]
  },
  {
   "cell_type": "code",
   "execution_count": 20,
   "id": "1f3441e9",
   "metadata": {},
   "outputs": [],
   "source": [
    "f3=\"data/rho_field.fits\""
   ]
  },
  {
   "cell_type": "code",
   "execution_count": 21,
   "id": "1c588002",
   "metadata": {},
   "outputs": [],
   "source": [
    "with fits.open(f3) as hdul:\n",
    "    rho = hdul[0].data\n"
   ]
  },
  {
   "cell_type": "code",
   "execution_count": 22,
   "id": "a6ae6b0e",
   "metadata": {},
   "outputs": [
    {
     "data": {
      "text/plain": [
       "(128, 128, 128)"
      ]
     },
     "execution_count": 22,
     "metadata": {},
     "output_type": "execute_result"
    }
   ],
   "source": [
    "np.shape(rho)"
   ]
  },
  {
   "cell_type": "code",
   "execution_count": 23,
   "id": "33550ea5",
   "metadata": {},
   "outputs": [
    {
     "data": {
      "text/plain": [
       "(np.float64(0.0), np.float64(1095.6228774009255))"
      ]
     },
     "execution_count": 23,
     "metadata": {},
     "output_type": "execute_result"
    }
   ],
   "source": [
    "np.min(rho), np.max(rho)"
   ]
  },
  {
   "cell_type": "code",
   "execution_count": 24,
   "id": "4bbf5f4d",
   "metadata": {},
   "outputs": [
    {
     "data": {
      "text/plain": [
       "<matplotlib.image.AxesImage at 0x7f8caaf13fd0>"
      ]
     },
     "execution_count": 24,
     "metadata": {},
     "output_type": "execute_result"
    },
    {
     "data": {
      "image/png": "[encoded data removed]",
      "text/plain": [
       "<Figure size 640x480 with 1 Axes>"
      ]
     },
     "metadata": {},
     "output_type": "display_data"
    }
   ],
   "source": [
    "plt.imshow(rho[0], origin=\"lower\")"
   ]
  },
  {
   "cell_type": "code",
   "execution_count": 25,
   "id": "523f2b0d",
   "metadata": {},
   "outputs": [],
   "source": [
    "# Add colorbar. How can I improve this image?"
   ]
  },
  {
   "cell_type": "markdown",
   "id": "554b9afa",
   "metadata": {},
   "source": [
    "## Adding more information"
   ]
  },
  {
   "cell_type": "code",
   "execution_count": 26,
   "id": "a9b70158",
   "metadata": {},
   "outputs": [],
   "source": [
    "f=\"data/halos.csv\""
   ]
  },
  {
   "cell_type": "code",
   "execution_count": 27,
   "id": "da7aed67",
   "metadata": {},
   "outputs": [
    {
     "data": {
      "text/plain": [
       "Index(['x y R c'], dtype='object')"
      ]
     },
     "execution_count": 27,
     "metadata": {},
     "output_type": "execute_result"
    }
   ],
   "source": [
    "data_h=pd.read_csv(f)\n",
    "data_h.keys() # sep not assigned properly"
   ]
  },
  {
   "cell_type": "code",
   "execution_count": 28,
   "id": "556ade44",
   "metadata": {},
   "outputs": [
    {
     "data": {
      "text/html": [
       "<div>\n",
       "<style scoped>\n",
       "    .dataframe tbody tr th:only-of-type {\n",
       "        vertical-align: middle;\n",
       "    }\n",
       "\n",
       "    .dataframe tbody tr th {\n",
       "        vertical-align: top;\n",
       "    }\n",
       "\n",
       "    .dataframe thead th {\n",
       "        text-align: right;\n",
       "    }\n",
       "</style>\n",
       "<table border=\"1\" class=\"dataframe\">\n",
       "  <thead>\n",
       "    <tr style=\"text-align: right;\">\n",
       "      <th></th>\n",
       "      <th>x y R c</th>\n",
       "    </tr>\n",
       "  </thead>\n",
       "  <tbody>\n",
       "    <tr>\n",
       "      <th>0</th>\n",
       "      <td>178.13936 88.39875 1.2571379999999999 3.812697...</td>\n",
       "    </tr>\n",
       "    <tr>\n",
       "      <th>1</th>\n",
       "      <td>183.63594 88.89573 1.2025190000000001 7.709740...</td>\n",
       "    </tr>\n",
       "    <tr>\n",
       "      <th>2</th>\n",
       "      <td>173.97438 84.39783 1.17404 5.779746960074829</td>\n",
       "    </tr>\n",
       "    <tr>\n",
       "      <th>3</th>\n",
       "      <td>103.43916 97.41998 1.035196 3.663710299624143</td>\n",
       "    </tr>\n",
       "    <tr>\n",
       "      <th>4</th>\n",
       "      <td>35.27691 103.48653 0.927961 5.058910434986453</td>\n",
       "    </tr>\n",
       "    <tr>\n",
       "      <th>...</th>\n",
       "      <td>...</td>\n",
       "    </tr>\n",
       "    <tr>\n",
       "      <th>79</th>\n",
       "      <td>62.59751 164.05107 0.383738 3.244099147842554</td>\n",
       "    </tr>\n",
       "    <tr>\n",
       "      <th>80</th>\n",
       "      <td>100.2665 34.39008 0.380573 1.9758530101966647</td>\n",
       "    </tr>\n",
       "    <tr>\n",
       "      <th>81</th>\n",
       "      <td>187.23323 145.58315 0.380573 6.954534656360215</td>\n",
       "    </tr>\n",
       "    <tr>\n",
       "      <th>82</th>\n",
       "      <td>192.05098 151.42207 0.376542 3.249889956241423</td>\n",
       "    </tr>\n",
       "    <tr>\n",
       "      <th>83</th>\n",
       "      <td>34.8305 102.4464 0.37572500000000003 1.9071173...</td>\n",
       "    </tr>\n",
       "  </tbody>\n",
       "</table>\n",
       "<p>84 rows × 1 columns</p>\n",
       "</div>"
      ],
      "text/plain": [
       "                                              x y R c\n",
       "0   178.13936 88.39875 1.2571379999999999 3.812697...\n",
       "1   183.63594 88.89573 1.2025190000000001 7.709740...\n",
       "2        173.97438 84.39783 1.17404 5.779746960074829\n",
       "3       103.43916 97.41998 1.035196 3.663710299624143\n",
       "4       35.27691 103.48653 0.927961 5.058910434986453\n",
       "..                                                ...\n",
       "79      62.59751 164.05107 0.383738 3.244099147842554\n",
       "80      100.2665 34.39008 0.380573 1.9758530101966647\n",
       "81     187.23323 145.58315 0.380573 6.954534656360215\n",
       "82     192.05098 151.42207 0.376542 3.249889956241423\n",
       "83  34.8305 102.4464 0.37572500000000003 1.9071173...\n",
       "\n",
       "[84 rows x 1 columns]"
      ]
     },
     "execution_count": 28,
     "metadata": {},
     "output_type": "execute_result"
    }
   ],
   "source": [
    "data_h"
   ]
  },
  {
   "cell_type": "code",
   "execution_count": 29,
   "id": "f0002816",
   "metadata": {},
   "outputs": [
    {
     "data": {
      "text/plain": [
       "Index(['x', 'y', 'R', 'c'], dtype='object')"
      ]
     },
     "execution_count": 29,
     "metadata": {},
     "output_type": "execute_result"
    }
   ],
   "source": [
    "data_h=pd.read_csv(f, sep=\" \")\n",
    "data_h.keys()"
   ]
  },
  {
   "cell_type": "code",
   "execution_count": 30,
   "id": "64e47203",
   "metadata": {},
   "outputs": [
    {
     "data": {
      "text/html": [
       "<div>\n",
       "<style scoped>\n",
       "    .dataframe tbody tr th:only-of-type {\n",
       "        vertical-align: middle;\n",
       "    }\n",
       "\n",
       "    .dataframe tbody tr th {\n",
       "        vertical-align: top;\n",
       "    }\n",
       "\n",
       "    .dataframe thead th {\n",
       "        text-align: right;\n",
       "    }\n",
       "</style>\n",
       "<table border=\"1\" class=\"dataframe\">\n",
       "  <thead>\n",
       "    <tr style=\"text-align: right;\">\n",
       "      <th></th>\n",
       "      <th>x</th>\n",
       "      <th>y</th>\n",
       "      <th>R</th>\n",
       "      <th>c</th>\n",
       "    </tr>\n",
       "  </thead>\n",
       "  <tbody>\n",
       "    <tr>\n",
       "      <th>0</th>\n",
       "      <td>178.13936</td>\n",
       "      <td>88.39875</td>\n",
       "      <td>1.257138</td>\n",
       "      <td>3.812698</td>\n",
       "    </tr>\n",
       "    <tr>\n",
       "      <th>1</th>\n",
       "      <td>183.63594</td>\n",
       "      <td>88.89573</td>\n",
       "      <td>1.202519</td>\n",
       "      <td>7.709740</td>\n",
       "    </tr>\n",
       "    <tr>\n",
       "      <th>2</th>\n",
       "      <td>173.97438</td>\n",
       "      <td>84.39783</td>\n",
       "      <td>1.174040</td>\n",
       "      <td>5.779747</td>\n",
       "    </tr>\n",
       "    <tr>\n",
       "      <th>3</th>\n",
       "      <td>103.43916</td>\n",
       "      <td>97.41998</td>\n",
       "      <td>1.035196</td>\n",
       "      <td>3.663710</td>\n",
       "    </tr>\n",
       "    <tr>\n",
       "      <th>4</th>\n",
       "      <td>35.27691</td>\n",
       "      <td>103.48653</td>\n",
       "      <td>0.927961</td>\n",
       "      <td>5.058910</td>\n",
       "    </tr>\n",
       "    <tr>\n",
       "      <th>...</th>\n",
       "      <td>...</td>\n",
       "      <td>...</td>\n",
       "      <td>...</td>\n",
       "      <td>...</td>\n",
       "    </tr>\n",
       "    <tr>\n",
       "      <th>79</th>\n",
       "      <td>62.59751</td>\n",
       "      <td>164.05107</td>\n",
       "      <td>0.383738</td>\n",
       "      <td>3.244099</td>\n",
       "    </tr>\n",
       "    <tr>\n",
       "      <th>80</th>\n",
       "      <td>100.26650</td>\n",
       "      <td>34.39008</td>\n",
       "      <td>0.380573</td>\n",
       "      <td>1.975853</td>\n",
       "    </tr>\n",
       "    <tr>\n",
       "      <th>81</th>\n",
       "      <td>187.23323</td>\n",
       "      <td>145.58315</td>\n",
       "      <td>0.380573</td>\n",
       "      <td>6.954535</td>\n",
       "    </tr>\n",
       "    <tr>\n",
       "      <th>82</th>\n",
       "      <td>192.05098</td>\n",
       "      <td>151.42207</td>\n",
       "      <td>0.376542</td>\n",
       "      <td>3.249890</td>\n",
       "    </tr>\n",
       "    <tr>\n",
       "      <th>83</th>\n",
       "      <td>34.83050</td>\n",
       "      <td>102.44640</td>\n",
       "      <td>0.375725</td>\n",
       "      <td>1.907117</td>\n",
       "    </tr>\n",
       "  </tbody>\n",
       "</table>\n",
       "<p>84 rows × 4 columns</p>\n",
       "</div>"
      ],
      "text/plain": [
       "            x          y         R         c\n",
       "0   178.13936   88.39875  1.257138  3.812698\n",
       "1   183.63594   88.89573  1.202519  7.709740\n",
       "2   173.97438   84.39783  1.174040  5.779747\n",
       "3   103.43916   97.41998  1.035196  3.663710\n",
       "4    35.27691  103.48653  0.927961  5.058910\n",
       "..        ...        ...       ...       ...\n",
       "79   62.59751  164.05107  0.383738  3.244099\n",
       "80  100.26650   34.39008  0.380573  1.975853\n",
       "81  187.23323  145.58315  0.380573  6.954535\n",
       "82  192.05098  151.42207  0.376542  3.249890\n",
       "83   34.83050  102.44640  0.375725  1.907117\n",
       "\n",
       "[84 rows x 4 columns]"
      ]
     },
     "execution_count": 30,
     "metadata": {},
     "output_type": "execute_result"
    }
   ],
   "source": [
    "data_h"
   ]
  },
  {
   "cell_type": "code",
   "execution_count": 31,
   "id": "4286be50",
   "metadata": {},
   "outputs": [],
   "source": [
    "# Load the data, try to plot, maximizing the information"
   ]
  },
  {
   "cell_type": "code",
   "execution_count": null,
   "id": "32dce1a3",
   "metadata": {},
   "outputs": [],
   "source": []
  },
  {
   "cell_type": "markdown",
   "id": "8f124d3a",
   "metadata": {},
   "source": [
    "# Contour plot"
   ]
  },
  {
   "cell_type": "code",
   "execution_count": 32,
   "id": "43f1c31d",
   "metadata": {},
   "outputs": [
    {
     "data": {
      "image/png": "[encoded data removed]",
      "text/plain": [
       "<Figure size 640x480 with 1 Axes>"
      ]
     },
     "metadata": {},
     "output_type": "display_data"
    }
   ],
   "source": [
    "f = \"data/2D_gaussian.dat\"\n",
    "data = np.loadtxt(f, delimiter=',')\n",
    "\n",
    "plt.imshow(data, cmap=\"Blues\")\n",
    "plt.show()\n"
   ]
  },
  {
   "cell_type": "code",
   "execution_count": 33,
   "id": "03a43e83",
   "metadata": {},
   "outputs": [],
   "source": [
    "# Plot the contours on top of the imshow\n"
   ]
  },
  {
   "cell_type": "code",
   "execution_count": 34,
   "id": "cb168b29",
   "metadata": {},
   "outputs": [],
   "source": [
    "# Can you change the x and y to have range [-3,3] (since this is a gaussian 2D distribution centered at (0,0)) and make the same plot?\n"
   ]
  },
  {
   "cell_type": "code",
   "execution_count": null,
   "id": "eec5f429",
   "metadata": {},
   "outputs": [],
   "source": []
  }
 ],
 "metadata": {
  "kernelspec": {
   "display_name": "py311",
   "language": "python",
   "name": "python3"
  },
  "language_info": {
   "codemirror_mode": {
    "name": "ipython",
    "version": 3
   },
   "file_extension": ".py",
   "mimetype": "text/x-python",
   "name": "python",
   "nbconvert_exporter": "python",
   "pygments_lexer": "ipython3",
   "version": "3.11.11"
  }
 },
 "nbformat": 4,
 "nbformat_minor": 5
}
